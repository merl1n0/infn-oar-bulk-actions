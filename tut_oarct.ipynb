{
 "cells": [
  {
   "cell_type": "markdown",
   "metadata": {},
   "source": [
    "# Usare Zenodo come Research Data Manager (RDM)\n",
    "\n",
    "In questo Notebook vedremo come poter utilizzare un RDM con alcuni esempi\n",
    "Il nostro repository ufficiale si trova su \n",
    "\n",
    "https://www.openaccessrepository.it\n",
    "\n",
    "ma per questo notebook useremo un ambiente di test, raggiungibile all'indirizzo\n",
    "\n",
    "https://sandbox.zenodo.org\n",
    "\n",
    "Impostiamo dunque una variabile che punta al repository che intendiamo utilizzare:"
   ]
  },
  {
   "cell_type": "code",
   "execution_count": 1,
   "metadata": {},
   "outputs": [],
   "source": [
    "\n",
    "oar_host = \"www.openaccessrepository.it\"\n",
    "\n",
    "cern_host = \"sandbox.zenodo.org\"\n",
    "\n",
    "\n",
    "HOST = oar_host"
   ]
  },
  {
   "cell_type": "markdown",
   "metadata": {},
   "source": [
    "Per ottenere i permessi di scrittura sul repository, è necessario creare un token dal portale web del repository.\n",
    "Nel caso di Zenodo, lo possiamo ottenere su:\n",
    "\n",
    "https://sandbox.zenodo.org/account/settings/applications/\n",
    "\n",
    "Se si utilizza invece il repository di produzione:\n",
    "\n",
    "https://www.openaccessrepository.it/account/settings/applications/\n",
    "\n",
    "Creare un nuovo *Personal Access Tokens*\n",
    "e configurare la variabile TOKEN\n",
    "\n"
   ]
  },
  {
   "cell_type": "code",
   "execution_count": 77,
   "metadata": {},
   "outputs": [
    {
     "data": {
      "text/plain": [
       "200"
      ]
     },
     "execution_count": 77,
     "metadata": {},
     "output_type": "execute_result"
    }
   ],
   "source": [
    "import requests\n",
    "\n",
    "### OAR.it token\n",
    "oar_token = \"WctVavtQvHXupfUTYSkPaieQgATwbRyvVFO6KnsjsC8JWr9N40IZLIdgbbGQ\"\n",
    "\n",
    "### Zenodo sandbox token\n",
    "cern_token = \"XveBvDXazblMrQeoiExquJUKUjP60S5UyQyK4Kj04CnseRwqwvSTYxt90Nw9\"\n",
    "\n",
    "TOKEN = oar_token\n",
    "\n"
   ]
  },
  {
   "cell_type": "code",
   "execution_count": null,
   "metadata": {},
   "outputs": [],
   "source": [
    "# Elenco dei nostri attuali depositi\n",
    "api = \"/api/deposit/depositions\"\n",
    "deposit_url = f'https://{HOST}{api}'\n",
    "req = requests.get(deposit_url, params={'access_token': TOKEN})\n",
    "req.status_code\n"
   ]
  },
  {
   "cell_type": "code",
   "execution_count": null,
   "metadata": {},
   "outputs": [],
   "source": [
    "req.text\n"
   ]
  },
  {
   "cell_type": "markdown",
   "metadata": {},
   "source": [
    "## Carichiamo i record dal nostro file YAML di input"
   ]
  },
  {
   "cell_type": "code",
   "execution_count": 95,
   "metadata": {},
   "outputs": [],
   "source": [
    "import yaml\n",
    "\n",
    "with open(r'adone-prova1.yml') as file:\n",
    "    # The FullLoader parameter handles the conversion from YAML\n",
    "    # scalar values to Python the dictionary format\n",
    "    records = yaml.load(file, Loader=yaml.FullLoader)\n"
   ]
  },
  {
   "cell_type": "markdown",
   "metadata": {},
   "source": [
    "Controlliamo quanti record sono stati caricati"
   ]
  },
  {
   "cell_type": "code",
   "execution_count": 81,
   "metadata": {},
   "outputs": [
    {
     "data": {
      "text/plain": [
       "2"
      ]
     },
     "execution_count": 81,
     "metadata": {},
     "output_type": "execute_result"
    }
   ],
   "source": [
    "len(records)\n",
    "\n",
    "#records[3]"
   ]
  },
  {
   "cell_type": "markdown",
   "metadata": {},
   "source": [
    "Creiamo un nuovo deposito, in modo da ottenere un deposit identifier"
   ]
  },
  {
   "cell_type": "code",
   "execution_count": 83,
   "metadata": {},
   "outputs": [
    {
     "name": "stdout",
     "output_type": "stream",
     "text": [
      "201\n"
     ]
    },
    {
     "data": {
      "text/plain": [
       "{'conceptrecid': '75348',\n",
       " 'created': '2022-03-25T11:53:42.999700+00:00',\n",
       " 'files': [],\n",
       " 'id': 75349,\n",
       " 'links': {'bucket': 'https://www.openaccessrepository.it/api/files/50118fab-1336-48c9-ae18-fc9c4fe47e97',\n",
       "  'discard': 'https://www.openaccessrepository.it/api/deposit/depositions/75349/actions/discard',\n",
       "  'edit': 'https://www.openaccessrepository.it/api/deposit/depositions/75349/actions/edit',\n",
       "  'files': 'https://www.openaccessrepository.it/api/deposit/depositions/75349/files',\n",
       "  'html': 'https://www.openaccessrepository.it/deposit/75349',\n",
       "  'latest_draft': 'https://www.openaccessrepository.it/api/deposit/depositions/75349',\n",
       "  'latest_draft_html': 'https://www.openaccessrepository.it/deposit/depositions/75349',\n",
       "  'publish': 'https://www.openaccessrepository.it/api/deposit/depositions/75349/actions/publish',\n",
       "  'self': 'https://www.openaccessrepository.it/api/deposit/depositions/75349'},\n",
       " 'metadata': {'prereserve_doi': {'doi': '10.15161/oar.it/75349',\n",
       "   'recid': 75349}},\n",
       " 'modified': '2022-03-25T11:53:42.999706+00:00',\n",
       " 'owner': 101,\n",
       " 'record_id': 75349,\n",
       " 'state': 'unsubmitted',\n",
       " 'submitted': False,\n",
       " 'title': ''}"
      ]
     },
     "execution_count": 83,
     "metadata": {},
     "output_type": "execute_result"
    }
   ],
   "source": [
    "headers = {\"Content-Type\": \"application/json\"}\n",
    "params = {'access_token': TOKEN}\n",
    "api = \"/api/deposit/depositions\"\n",
    "deposit_url = f'https://{HOST}{api}'\n",
    "\n",
    "req = requests.post(deposit_url, params=params, json={})\n",
    "                   # Headers are not necessary here since \"requests\" automatically\n",
    "                   # adds \"Content-Type: application/json\", because we're using\n",
    "                   # the \"json=\" keyword argument\n",
    "                   # headers=headers,\n",
    "                   # headers=headers)\n",
    "\n",
    "\n",
    "print(req.status_code)\n",
    "\n",
    "req.json()\n"
   ]
  },
  {
   "cell_type": "markdown",
   "metadata": {},
   "source": [
    "Il nuovo deposito ha assegnato un `id` e riserva anche un DOI (generato localmente, non registrato su datacite)"
   ]
  },
  {
   "cell_type": "code",
   "execution_count": 84,
   "metadata": {},
   "outputs": [
    {
     "data": {
      "text/plain": [
       "(75349, '10.15161/oar.it/75349')"
      ]
     },
     "execution_count": 84,
     "metadata": {},
     "output_type": "execute_result"
    }
   ],
   "source": [
    "deposition_id = req.json()['id']\n",
    "reserved_doi = req.json()['metadata']['prereserve_doi']['doi']\n",
    "\n",
    "deposition_id, reserved_doi"
   ]
  },
  {
   "cell_type": "markdown",
   "metadata": {},
   "source": [
    "Il nuovo deposito ci restituisce anche un bucket su cui caricare i nostri files"
   ]
  },
  {
   "cell_type": "code",
   "execution_count": 86,
   "metadata": {},
   "outputs": [
    {
     "data": {
      "text/plain": [
       "'https://www.openaccessrepository.it/api/files/50118fab-1336-48c9-ae18-fc9c4fe47e97'"
      ]
     },
     "execution_count": 86,
     "metadata": {},
     "output_type": "execute_result"
    }
   ],
   "source": [
    "bucket_url = req.json()[\"links\"][\"bucket\"]\n",
    "bucket_url\n",
    "\n"
   ]
  },
  {
   "cell_type": "markdown",
   "metadata": {},
   "source": [
    "Selezioniamo un record dal nostro file `.yml`"
   ]
  },
  {
   "cell_type": "code",
   "execution_count": 107,
   "metadata": {},
   "outputs": [
    {
     "data": {
      "text/plain": [
       "{'title': 'Phylosophy and cost of the injection system for CARST',\n",
       " 'description': '<p>The general specifications for any synchroton light source injection system are: full Main ring (MR) energy, MR filling time to maximum foreseen current, much shorter than the beam lifetime. (...) Full energy injection guarantees that the problems to arise, in connection with the need for keeping a large number of beam lines independently aligned to very high precision, will be reduced to a minimum.</p>',\n",
       " 'access_right': 'open',\n",
       " 'communities': [{'identifier': 'infn'}],\n",
       " 'creators': [{'name': 'Tazzari, S.'}],\n",
       " 'keywords': ['ADONE', 'CARST', 'Injector systems'],\n",
       " 'language': 'eng',\n",
       " 'license': {'id': 'CC-BY-4.0'},\n",
       " 'publication_date': '1986-07-27',\n",
       " 'resource_type': {'type': 'publication', 'subtype': 'proposal'},\n",
       " 'files': [{'key': 'AF-09.pdf', 'path': 'AF_1/AF-09.pdf'}]}"
      ]
     },
     "execution_count": 107,
     "metadata": {},
     "output_type": "execute_result"
    }
   ],
   "source": [
    "r = records[0]\n",
    "\n",
    "r"
   ]
  },
  {
   "cell_type": "markdown",
   "metadata": {},
   "source": [
    "il nome del file su OAR sarà il titolo in cui al posto degli spazi sostituiamo il simbolo '-' (dash) seguito dal percorso `path` del file, seguito dall'estensione"
   ]
  },
  {
   "cell_type": "code",
   "execution_count": 109,
   "metadata": {},
   "outputs": [
    {
     "data": {
      "text/plain": [
       "('AF_1/AF-09.pdf',\n",
       " 'phylosophy-and-cost-of-the-injection-system-for-carst_AF_1_AF-09.pdf',\n",
       " 'phylosophy-and-cost-of-the-injection-system-for-carst_AF_1_AF-09.pdf')"
      ]
     },
     "execution_count": 109,
     "metadata": {},
     "output_type": "execute_result"
    }
   ],
   "source": [
    "\n",
    "filename = r['title'].replace(' ', '-').lower() \n",
    "filename += '_' + r['files'][0]['path'].replace('/', '_')\n",
    "path = r['files'][0]['path'] \n",
    "\n",
    "import urllib.parse\n",
    "\n",
    "\n",
    "path, filename, urllib.parse.quote(filename)"
   ]
  },
  {
   "cell_type": "markdown",
   "metadata": {},
   "source": [
    "Facciamo l'upload del file sulla nostra deposition, caricandolo da una cartella locale, usando il path indicato nel file `.yml` di input"
   ]
  },
  {
   "cell_type": "code",
   "execution_count": 92,
   "metadata": {},
   "outputs": [
    {
     "name": "stdout",
     "output_type": "stream",
     "text": [
      "https://www.openaccessrepository.it/api/files/50118fab-1336-48c9-ae18-fc9c4fe47e97/the-afrodite-booster_AF_1_AF-02.pdf\n"
     ]
    },
    {
     "data": {
      "text/plain": [
       "{'delete_marker': False,\n",
       " 'mimetype': 'application/pdf',\n",
       " 'updated': '2022-03-25T12:04:00.360206+00:00',\n",
       " 'links': {'self': 'https://www.openaccessrepository.it/api/files/50118fab-1336-48c9-ae18-fc9c4fe47e97/the-afrodite-booster_AF_1_AF-02.pdf',\n",
       "  'version': 'https://www.openaccessrepository.it/api/files/50118fab-1336-48c9-ae18-fc9c4fe47e97/the-afrodite-booster_AF_1_AF-02.pdf?versionId=38957e8e-2536-4e6e-afac-c5b7959e6bb4',\n",
       "  'uploads': 'https://www.openaccessrepository.it/api/files/50118fab-1336-48c9-ae18-fc9c4fe47e97/the-afrodite-booster_AF_1_AF-02.pdf?uploads'},\n",
       " 'checksum': 'md5:a7d9fa61c43baac4fdb51ac1a7b4e55e',\n",
       " 'is_head': True,\n",
       " 'created': '2022-03-25T12:03:59.740215+00:00',\n",
       " 'size': 4098936,\n",
       " 'version_id': '38957e8e-2536-4e6e-afac-c5b7959e6bb4',\n",
       " 'key': 'the-afrodite-booster_AF_1_AF-02.pdf'}"
      ]
     },
     "execution_count": 92,
     "metadata": {},
     "output_type": "execute_result"
    }
   ],
   "source": [
    "#filename = \"phylosophy-and-cost-of-the-injection-system-for-carst.pdf\"  # name of the file on oar\n",
    "\n",
    "params = {'access_token': TOKEN}\n",
    "upload_url = f'{bucket_url}/{filename}'\n",
    "print(upload_url)\n",
    "\n",
    "# The target URL is a combination of the bucket link with the desired filename\n",
    "# seperated by a slash.\n",
    "\n",
    "with open(path, \"rb\") as fp:\n",
    "    req = requests.put(\n",
    "        upload_url,\n",
    "        data=fp,\n",
    "        params=params,\n",
    "    )\n",
    "req.json()"
   ]
  },
  {
   "cell_type": "markdown",
   "metadata": {},
   "source": [
    "Selezioniamo i metadati da caricare. Ad esempio il primo record:"
   ]
  },
  {
   "cell_type": "code",
   "execution_count": 93,
   "metadata": {},
   "outputs": [
    {
     "data": {
      "text/plain": [
       "{'title': 'The AFRODITE booster',\n",
       " 'description': '<p>The booster ring for the AFRODITE injector chain has been studied to achieve a low emittance (...) accepting an injected beam from a positron linac without an intermediate positron accumulator. The lattice has been designated using the same magnetic elements of the main ring, bearing in mind that substancial cost reduction can be obtained with this approach.</p>',\n",
       " 'access_right': 'open',\n",
       " 'communities': [{'identifier': 'infn'}],\n",
       " 'creators': [{'name': 'Patteri, P.'}, {'name': 'Tazzioli, F.'}],\n",
       " 'keywords': ['ADONE', 'AFRODITE', 'Booster ring'],\n",
       " 'language': 'eng',\n",
       " 'license': 'CC-BY-4.0',\n",
       " 'publication_date': datetime.date(1986, 6, 26),\n",
       " 'upload_type': 'publication',\n",
       " 'publication_type': 'technicalnote',\n",
       " 'files': [{'key': 'AF-02.pdf', 'path': 'AF_1/AF-02.pdf'}]}"
      ]
     },
     "execution_count": 93,
     "metadata": {},
     "output_type": "execute_result"
    }
   ],
   "source": [
    "\n",
    "\n",
    "#ec['communities'][0]['identifier'] = rec['communities'][0].pop('id')\n",
    "r\n"
   ]
  },
  {
   "cell_type": "markdown",
   "metadata": {},
   "source": [
    "Prepariamo i metadati facendo un po' di \"massaging\" sui nomi degli attributi, rimuovendo gli attributi non più in uso. **da rivedere i nomi degli attributi** del file `.yml` e carichiamo i metadati"
   ]
  },
  {
   "cell_type": "code",
   "execution_count": 97,
   "metadata": {},
   "outputs": [
    {
     "name": "stdout",
     "output_type": "stream",
     "text": [
      "{'metadata': {'title': 'The AFRODITE booster', 'description': '<p>The booster ring for the AFRODITE injector chain has been studied to achieve a low emittance (...) accepting an injected beam from a positron linac without an intermediate positron accumulator. The lattice has been designated using the same magnetic elements of the main ring, bearing in mind that substancial cost reduction can be obtained with this approach.</p>', 'access_right': 'open', 'communities': [{'identifier': 'infn'}], 'creators': [{'name': 'Patteri, P.'}, {'name': 'Tazzioli, F.'}], 'keywords': ['ADONE', 'AFRODITE', 'Booster ring'], 'language': 'eng', 'license': 'CC-BY-4.0', 'publication_date': '1986-06-26', 'upload_type': 'publication', 'publication_type': 'technicalnote'}}\n"
     ]
    },
    {
     "data": {
      "text/plain": [
       "{'conceptrecid': '75348',\n",
       " 'created': '2022-03-25T11:53:42.999700+00:00',\n",
       " 'files': [{'checksum': 'a7d9fa61c43baac4fdb51ac1a7b4e55e',\n",
       "   'filename': 'the-afrodite-booster_AF_1_AF-02.pdf',\n",
       "   'filesize': 4098936,\n",
       "   'id': '06b3de7c-9214-4f16-896f-32e4306a4a58',\n",
       "   'links': {'download': 'https://www.openaccessrepository.it/api/files/50118fab-1336-48c9-ae18-fc9c4fe47e97/the-afrodite-booster_AF_1_AF-02.pdf',\n",
       "    'self': 'https://www.openaccessrepository.it/api/deposit/depositions/75343/files/06b3de7c-9214-4f16-896f-32e4306a4a58'}}],\n",
       " 'id': 75349,\n",
       " 'links': {'bucket': 'https://www.openaccessrepository.it/api/files/50118fab-1336-48c9-ae18-fc9c4fe47e97',\n",
       "  'discard': 'https://www.openaccessrepository.it/api/deposit/depositions/75349/actions/discard',\n",
       "  'edit': 'https://www.openaccessrepository.it/api/deposit/depositions/75349/actions/edit',\n",
       "  'files': 'https://www.openaccessrepository.it/api/deposit/depositions/75349/files',\n",
       "  'html': 'https://www.openaccessrepository.it/deposit/75349',\n",
       "  'latest_draft': 'https://www.openaccessrepository.it/api/deposit/depositions/75349',\n",
       "  'latest_draft_html': 'https://www.openaccessrepository.it/deposit/depositions/75349',\n",
       "  'newversion': 'https://www.openaccessrepository.it/api/deposit/depositions/75349/actions/newversion',\n",
       "  'publish': 'https://www.openaccessrepository.it/api/deposit/depositions/75349/actions/publish',\n",
       "  'registerconceptdoi': 'https://www.openaccessrepository.it/api/deposit/depositions/75349/actions/registerconceptdoi',\n",
       "  'self': 'https://www.openaccessrepository.it/api/deposit/depositions/75349'},\n",
       " 'metadata': {'access_right': 'open',\n",
       "  'communities': [{'identifier': 'infn'}],\n",
       "  'creators': [{'name': 'Patteri, P.'}, {'name': 'Tazzioli, F.'}],\n",
       "  'description': '<p>The booster ring for the AFRODITE injector chain has been studied to achieve a low emittance (...) accepting an injected beam from a positron linac without an intermediate positron accumulator. The lattice has been designated using the same magnetic elements of the main ring, bearing in mind that substancial cost reduction can be obtained with this approach.</p>',\n",
       "  'keywords': ['ADONE', 'AFRODITE', 'Booster ring'],\n",
       "  'language': 'eng',\n",
       "  'license': 'CC-BY-4.0',\n",
       "  'prereserve_doi': {'doi': '10.15161/oar.it/75349', 'recid': 75349},\n",
       "  'publication_date': '1986-06-26',\n",
       "  'publication_type': 'technicalnote',\n",
       "  'title': 'The AFRODITE booster',\n",
       "  'upload_type': 'publication'},\n",
       " 'modified': '2022-03-25T12:06:34.330274+00:00',\n",
       " 'owner': 101,\n",
       " 'record_id': 75349,\n",
       " 'state': 'unsubmitted',\n",
       " 'submitted': False,\n",
       " 'title': 'The AFRODITE booster'}"
      ]
     },
     "execution_count": 97,
     "metadata": {},
     "output_type": "execute_result"
    }
   ],
   "source": [
    "\n",
    "\n",
    "# metadata = {\n",
    "#     'upload_type': rec['resource_type'].pop('type'),\n",
    "#     'publication_type': rec['resource_type'].pop('subtype')\n",
    "# }\n",
    "# del rec['resource_type']\n",
    "del r['files']\n",
    "\n",
    "#deposition_id = 75345\n",
    "\n",
    "data = { 'metadata': r }\n",
    "print(data)\n",
    "import json\n",
    "\n",
    "url = f'{deposit_url}/{deposition_id}'\n",
    "req = requests.put(url,                  \n",
    "    params=params, data=json.dumps(data),\n",
    "    headers=headers)\n",
    "\n",
    "req.json()\n"
   ]
  },
  {
   "cell_type": "markdown",
   "metadata": {},
   "source": [
    "E se tutto è andato bene possiamo pubblicare il nostro record:"
   ]
  },
  {
   "cell_type": "code",
   "execution_count": 103,
   "metadata": {},
   "outputs": [
    {
     "data": {
      "text/plain": [
       "('https://www.openaccessrepository.it/api/deposit/depositions/75349/actions/publish',\n",
       " 202,\n",
       " {'conceptdoi': '10.15161/oar.it/75348',\n",
       "  'conceptrecid': '75348',\n",
       "  'created': '2022-03-25T11:53:42.999700+00:00',\n",
       "  'doi': '10.15161/oar.it/75349',\n",
       "  'doi_url': 'https://doi.org/10.15161/oar.it/75349',\n",
       "  'files': [{'checksum': 'a7d9fa61c43baac4fdb51ac1a7b4e55e',\n",
       "    'filename': 'the-afrodite-booster_AF_1_AF-02.pdf',\n",
       "    'filesize': 4098936,\n",
       "    'id': '06b3de7c-9214-4f16-896f-32e4306a4a58',\n",
       "    'links': {'download': 'https://www.openaccessrepository.it/api/files/50118fab-1336-48c9-ae18-fc9c4fe47e97/the-afrodite-booster_AF_1_AF-02.pdf',\n",
       "     'self': 'https://www.openaccessrepository.it/api/deposit/depositions/75310/files/06b3de7c-9214-4f16-896f-32e4306a4a58'}}],\n",
       "  'id': 75349,\n",
       "  'links': {'badge': 'https://www.openaccessrepository.it/badge/doi/10.15161/oar.it/75349.svg',\n",
       "   'bucket': 'https://www.openaccessrepository.it/api/files/50118fab-1336-48c9-ae18-fc9c4fe47e97',\n",
       "   'conceptbadge': 'https://www.openaccessrepository.it/badge/doi/10.15161/oar.it/75348.svg',\n",
       "   'conceptdoi': 'https://doi.org/10.15161/oar.it/75348',\n",
       "   'doi': 'https://doi.org/10.15161/oar.it/75349',\n",
       "   'latest': 'https://www.openaccessrepository.it/api/records/75349',\n",
       "   'latest_html': 'https://www.openaccessrepository.it/record/75349',\n",
       "   'record': 'https://www.openaccessrepository.it/api/records/75349',\n",
       "   'record_html': 'https://www.openaccessrepository.it/record/75349'},\n",
       "  'metadata': {'access_right': 'open',\n",
       "   'communities': [{'identifier': 'infn'}],\n",
       "   'creators': [{'name': 'Patteri, P.'}, {'name': 'Tazzioli, F.'}],\n",
       "   'description': '<p>The booster ring for the AFRODITE injector chain has been studied to achieve a low emittance (...) accepting an injected beam from a positron linac without an intermediate positron accumulator. The lattice has been designated using the same magnetic elements of the main ring, bearing in mind that substancial cost reduction can be obtained with this approach.</p>',\n",
       "   'doi': '10.15161/oar.it/75349',\n",
       "   'keywords': ['ADONE', 'AFRODITE', 'Booster ring'],\n",
       "   'language': 'eng',\n",
       "   'license': 'CC-BY-4.0',\n",
       "   'prereserve_doi': {'doi': '10.15161/oar.it/75349', 'recid': 75349},\n",
       "   'publication_date': '1986-06-26',\n",
       "   'publication_type': 'technicalnote',\n",
       "   'title': 'The AFRODITE booster',\n",
       "   'upload_type': 'publication'},\n",
       "  'modified': '2022-03-25T12:12:35.107358+00:00',\n",
       "  'owner': 101,\n",
       "  'record_id': 75349,\n",
       "  'state': 'done',\n",
       "  'submitted': True,\n",
       "  'title': 'The AFRODITE booster'})"
      ]
     },
     "execution_count": 103,
     "metadata": {},
     "output_type": "execute_result"
    }
   ],
   "source": [
    "publish_url = f'{deposit_url}/{deposition_id}/actions/publish'\n",
    "req = requests.post(publish_url, params=params )\n",
    "\n",
    "publish_url, req.status_code, req.json()\n"
   ]
  }
 ],
 "metadata": {
  "interpreter": {
   "hash": "0db4429bade64a920573a60534e99218e8b03cac14770deff111eb125bb05584"
  },
  "kernelspec": {
   "display_name": "Python 3.9.7 64-bit ('.venv': venv)",
   "name": "python3"
  },
  "language_info": {
   "codemirror_mode": {
    "name": "ipython",
    "version": 3
   },
   "file_extension": ".py",
   "mimetype": "text/x-python",
   "name": "python",
   "nbconvert_exporter": "python",
   "pygments_lexer": "ipython3",
   "version": "3.9.10"
  },
  "orig_nbformat": 4
 },
 "nbformat": 4,
 "nbformat_minor": 2
}
